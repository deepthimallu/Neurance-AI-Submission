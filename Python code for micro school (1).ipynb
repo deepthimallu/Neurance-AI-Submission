{
 "cells": [
  {
   "cell_type": "code",
   "execution_count": 1,
   "metadata": {},
   "outputs": [
    {
     "name": "stdout",
     "output_type": "stream",
     "text": [
      "2\n",
      "2 103\n",
      "4 102\n",
      "5 7\n",
      "Right\n",
      "6 100\n",
      "8 9\n",
      "5 40\n",
      "Right\n"
     ]
    }
   ],
   "source": [
    "for _ in range(int(input())):\n",
    "    n,m=map(int,input().split())\n",
    "    sn,sm=map(int,input().split())\n",
    "    dn,dm=map(int,input().split())\n",
    "    if (sn==1 and sm==1):\n",
    "        if (dn-sn)%2==0:\n",
    "            if dm<m:\n",
    "                print('Right')\n",
    "            else:\n",
    "                if dn==n:\n",
    "                    print('Over')\n",
    "                else:\n",
    "                    print(\"Back\")\n",
    "        else:\n",
    "            if dm>1:\n",
    "                print(\"Left\")\n",
    "            else:\n",
    "                if dn==n:\n",
    "                    print(\"Over\")\n",
    "                else:\n",
    "                    print(\"Back\")\n",
    "    elif sn==1 and sm==m:\n",
    "        if (dn-sn)%2==0:\n",
    "            if dm>1:\n",
    "                print(\"Left\")\n",
    "            else:\n",
    "                if dn==n:\n",
    "                    print(\"Over\")\n",
    "                else:\n",
    "                    print(\"Back\")\n",
    "        else:\n",
    "            if dm<m:\n",
    "                print(\"Right\")\n",
    "            else:\n",
    "                if dn==n:\n",
    "                    print(\"Over\")\n",
    "                else:\n",
    "                    print(\"Back\")\n",
    "    elif sn==n and sm==1:\n",
    "        if (sn-dn)%2==0:\n",
    "            if dm<m:\n",
    "                print(\"Right\")\n",
    "            else:\n",
    "                if dn==1:\n",
    "                    print(\"Over\")\n",
    "                else:\n",
    "                    print(\"Front\")\n",
    "        else:\n",
    "            if dm>1:\n",
    "                print(\"Left\")\n",
    "            else:\n",
    "                if dn==1:\n",
    "                    print(\"Over\")\n",
    "                else:\n",
    "                    print(\"Front\")\n",
    "    else:\n",
    "        if (sn-dn)%2==0:\n",
    "            if dm>1:\n",
    "                print(\"Left\")\n",
    "            else:\n",
    "                if dn==1:\n",
    "                    print(\"Over\")\n",
    "                else:\n",
    "                    print(\"Front\")\n",
    "        else:\n",
    "            if dm<m:\n",
    "                print(\"Right\")\n",
    "            else:\n",
    "                if dn==1:\n",
    "                    print(\"Over\")\n",
    "                else:\n",
    "                    print(\"Front\") "
   ]
  },
  {
   "cell_type": "code",
   "execution_count": null,
   "metadata": {},
   "outputs": [],
   "source": []
  }
 ],
 "metadata": {
  "kernelspec": {
   "display_name": "Python 3",
   "language": "python",
   "name": "python3"
  },
  "language_info": {
   "codemirror_mode": {
    "name": "ipython",
    "version": 3
   },
   "file_extension": ".py",
   "mimetype": "text/x-python",
   "name": "python",
   "nbconvert_exporter": "python",
   "pygments_lexer": "ipython3",
   "version": "3.8.5"
  }
 },
 "nbformat": 4,
 "nbformat_minor": 4
}
